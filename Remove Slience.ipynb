{
 "cells": [
  {
   "cell_type": "markdown",
   "metadata": {},
   "source": [
    "## Convert 32bit 44100hz wav file to 16bit 16000hz"
   ]
  },
  {
   "cell_type": "markdown",
   "metadata": {},
   "source": [
    "## Remove the slience and segment them"
   ]
  },
  {
   "cell_type": "code",
   "execution_count": 27,
   "metadata": {},
   "outputs": [],
   "source": [
    "import os\n",
    "from pydub.silence import split_on_silence\n",
    "from pydub import AudioSegment #Using AudioSegment object for removing silence\n",
    "import soundfile # Play the audio file\n",
    "from pydub.playback import play\n",
    "import sys\n",
    "import shutil # Removing the folder"
   ]
  },
  {
   "cell_type": "code",
   "execution_count": 28,
   "metadata": {},
   "outputs": [],
   "source": [
    "def make_dir():\n",
    "    # Create the folder to store the result\n",
    "    try:\n",
    "        os.mkdir(human_voice_16)\n",
    "    except OSError:\n",
    "        print (\"Creation of the directory {} failed\".format(human_voice_16))\n",
    "    else:\n",
    "        print (\"Successfully created the directory {} \".format(human_voice_16))\n",
    "\n",
    "    # Create the folder for segmentation\n",
    "    try:\n",
    "        os.mkdir(segment_folder)\n",
    "    except OSError:\n",
    "        print (\"Creation of the directory {} failed\".format(segment_folder))\n",
    "    else:\n",
    "        print (\"Successfully created the directory {} \".format(segment_folder))"
   ]
  },
  {
   "cell_type": "code",
   "execution_count": 29,
   "metadata": {},
   "outputs": [],
   "source": [
    "def convert_32_to_16():\n",
    "    # convert the 32bit wav file to 16bit\n",
    "    for file in os.listdir(human_voice_folder):\n",
    "        data,sample_rate = soundfile.read(os.path.join(human_voice_folder,file))\n",
    "        soundfile.write(os.path.join(human_voice_16,file),data,sample_rate,subtype='PCM_16')"
   ]
  },
  {
   "cell_type": "code",
   "execution_count": 30,
   "metadata": {},
   "outputs": [],
   "source": [
    "def remove_silence(length):\n",
    "    second = length*1000\n",
    "    i = 0\n",
    "    for file in os.listdir(human_voice_16):\n",
    "        sound_obj = AudioSegment.from_wav(os.path.join(human_voice_16,file))\n",
    "        # Change the sample rate from 44100 to 16000\n",
    "        sound_obj = sound_obj.set_frame_rate(16000)\n",
    "        # split_on_silence(audio_segment, min_silence_len=1000, silence_thresh=-16, keep_silence=100,seek_step=1)\n",
    "        chunks = split_on_silence(sound_obj)\n",
    "        # Create a empty audioSegment object to store non-silence segment\n",
    "        combined = AudioSegment.empty()\n",
    "        for chunk in chunks:\n",
    "            combined+=chunk\n",
    "        duration = combined.duration_seconds\n",
    "        start = 0\n",
    "        while start+length < duration:\n",
    "            segment = combined[start*1000:start*1000+second]\n",
    "            start = start+length\n",
    "            filename = str(i)+'.wav'\n",
    "            segment.export(os.path.join(segment_folder,filename),format=\"wav\")\n",
    "            i = i+1"
   ]
  },
  {
   "cell_type": "code",
   "execution_count": 31,
   "metadata": {},
   "outputs": [],
   "source": [
    "def remove_folder(path):\n",
    "    shutil.rmtree(path)"
   ]
  },
  {
   "cell_type": "code",
   "execution_count": 32,
   "metadata": {},
   "outputs": [
    {
     "name": "stdout",
     "output_type": "stream",
     "text": [
      "Successfully created the directory ./Result_16 \n",
      "Successfully created the directory ./FemaleNew \n",
      "Finish converting 32 bit wav file to 16bit!\n",
      "Finish removing silence part and segemnt!\n",
      "Finish removing the folder!\n"
     ]
    }
   ],
   "source": [
    "human_voice_folder = './Extract_Result'\n",
    "human_voice_16 = './Result_16'\n",
    "segment_folder = './FemaleNew'\n",
    "# Prepare folder\n",
    "make_dir()\n",
    "# Convert 32bit wav to 16bit\n",
    "convert_32_to_16()\n",
    "# Remove silence and restore\n",
    "print('Finish converting 32 bit wav file to 16bit!')\n",
    "remove_silence(4)\n",
    "print('Finish removing silence part and segemnt!')\n",
    "remove_folder(human_voice_16)\n",
    "print('Finish removing the folder!')"
   ]
  },
  {
   "cell_type": "code",
   "execution_count": null,
   "metadata": {},
   "outputs": [],
   "source": []
  }
 ],
 "metadata": {
  "kernelspec": {
   "display_name": "Python 3",
   "language": "python",
   "name": "python3"
  },
  "language_info": {
   "codemirror_mode": {
    "name": "ipython",
    "version": 3
   },
   "file_extension": ".py",
   "mimetype": "text/x-python",
   "name": "python",
   "nbconvert_exporter": "python",
   "pygments_lexer": "ipython3",
   "version": "3.7.1"
  }
 },
 "nbformat": 4,
 "nbformat_minor": 2
}
