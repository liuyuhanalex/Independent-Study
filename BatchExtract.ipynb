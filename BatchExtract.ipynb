{
 "cells": [
  {
   "cell_type": "code",
   "execution_count": 71,
   "metadata": {},
   "outputs": [],
   "source": [
    "import os\n",
    "import numpy as np\n",
    "import pandas as pd\n",
    "import re"
   ]
  },
  {
   "cell_type": "code",
   "execution_count": 93,
   "metadata": {},
   "outputs": [],
   "source": [
    "# Global Variables\n",
    "excel_path = './Start Time/83073663（無名 炎）男.xls'\n",
    "# Change the folder name to exclude the Chinese chars.\n",
    "folder_path = './83073663'\n",
    "# UGC file path (same with m4a file)\n",
    "ugc_m4a_path = './83073663'\n",
    "# Output pcm folder\n",
    "out_put_path = './'\n",
    "# Command line output file\n",
    "command_line_path = './commandline.txt'"
   ]
  },
  {
   "cell_type": "code",
   "execution_count": 84,
   "metadata": {},
   "outputs": [],
   "source": [
    "# RE pattern\n",
    "m4a_pattern = '.*.m4a'\n",
    "mp4_pattern = '.*.mp4'"
   ]
  },
  {
   "cell_type": "code",
   "execution_count": 55,
   "metadata": {},
   "outputs": [
    {
     "data": {
      "text/html": [
       "<div>\n",
       "<style scoped>\n",
       "    .dataframe tbody tr th:only-of-type {\n",
       "        vertical-align: middle;\n",
       "    }\n",
       "\n",
       "    .dataframe tbody tr th {\n",
       "        vertical-align: top;\n",
       "    }\n",
       "\n",
       "    .dataframe thead th {\n",
       "        text-align: right;\n",
       "    }\n",
       "</style>\n",
       "<table border=\"1\" class=\"dataframe\">\n",
       "  <thead>\n",
       "    <tr style=\"text-align: right;\">\n",
       "      <th></th>\n",
       "      <th>mvid</th>\n",
       "      <th>开始录制时间</th>\n",
       "      <th>文件名</th>\n",
       "    </tr>\n",
       "  </thead>\n",
       "  <tbody>\n",
       "    <tr>\n",
       "      <th>0</th>\n",
       "      <td>294112881</td>\n",
       "      <td>0.000000</td>\n",
       "      <td>逃跑计划_夜空中最亮的星_伴奏_294112881.m4a</td>\n",
       "    </tr>\n",
       "    <tr>\n",
       "      <th>1</th>\n",
       "      <td>296472733</td>\n",
       "      <td>0.696599</td>\n",
       "      <td>龙千玉_男人情女人心_伴奏_296472733.m4a</td>\n",
       "    </tr>\n",
       "    <tr>\n",
       "      <th>2</th>\n",
       "      <td>296473423</td>\n",
       "      <td>0.650159</td>\n",
       "      <td>阿穆隆_男人女人_伴奏_296473423.m4a</td>\n",
       "    </tr>\n",
       "    <tr>\n",
       "      <th>3</th>\n",
       "      <td>299262879</td>\n",
       "      <td>0.435374</td>\n",
       "      <td>林俊杰_当你_伴奏_299262879.m4a</td>\n",
       "    </tr>\n",
       "    <tr>\n",
       "      <th>4</th>\n",
       "      <td>303469726</td>\n",
       "      <td>0.156735</td>\n",
       "      <td>李圣杰_痴心绝对_伴奏_303469726.m4a</td>\n",
       "    </tr>\n",
       "  </tbody>\n",
       "</table>\n",
       "</div>"
      ],
      "text/plain": [
       "        mvid    开始录制时间                            文件名\n",
       "0  294112881  0.000000  逃跑计划_夜空中最亮的星_伴奏_294112881.m4a\n",
       "1  296472733  0.696599    龙千玉_男人情女人心_伴奏_296472733.m4a\n",
       "2  296473423  0.650159      阿穆隆_男人女人_伴奏_296473423.m4a\n",
       "3  299262879  0.435374        林俊杰_当你_伴奏_299262879.m4a\n",
       "4  303469726  0.156735      李圣杰_痴心绝对_伴奏_303469726.m4a"
      ]
     },
     "execution_count": 55,
     "metadata": {},
     "output_type": "execute_result"
    }
   ],
   "source": [
    "# Open the excel file using pandas\n",
    "excel_df = pd.read_excel(excel_path)\n",
    "excel_df.head()"
   ]
  },
  {
   "cell_type": "code",
   "execution_count": 107,
   "metadata": {},
   "outputs": [
    {
     "name": "stdout",
     "output_type": "stream",
     "text": [
      "./extra ./83073663\\刘畊宏_心动心痛_伴奏.m4a ./83073663\\刘畊宏_心动心痛_ugc.mp4 0.1741500049829483 ./刘畊宏_心动心痛_人声.pcm\n",
      "./extra ./83073663\\刘辰希_思念是一把刀_伴奏.m4a ./83073663\\刘辰希_思念是一把刀_ugc.mp4 0.6037189960479736 ./刘辰希_思念是一把刀_人声.pcm\n",
      "./extra ./83073663\\周兴哲_以后别做朋友_伴奏.m4a ./83073663\\周兴哲_以后别做朋友_ugc.mp4 0.4121539890766144 ./周兴哲_以后别做朋友_人声.pcm\n",
      "./extra ./83073663\\孙楠_美丽的神话_伴奏.m4a ./83073663\\孙楠_美丽的神话_ugc.mp4 0.423764169216156 ./孙楠_美丽的神话_人声.pcm\n",
      "./extra ./83073663\\李圣杰_痴心绝对_伴奏.m4a ./83073663\\李圣杰_痴心绝对_ugc.mp4 0.15673469007015228 ./李圣杰_痴心绝对_人声.pcm\n",
      "./extra ./83073663\\林俊杰_当你_伴奏.m4a ./83073663\\林俊杰_当你_ugc.mp4 0.4353741407394409 ./林俊杰_当你_人声.pcm\n",
      "./extra ./83073663\\王冕_勉为其难_伴奏.m4a ./83073663\\王冕_勉为其难_ugc.mp4 0.4527890086174011 ./王冕_勉为其难_人声.pcm\n",
      "./extra ./83073663\\白小白_最美情侣_伴奏.m4a ./83073663\\白小白_最美情侣_ugc.mp4 0.19736962020397186 ./白小白_最美情侣_人声.pcm\n",
      "./extra ./83073663\\薛之谦_意外_伴奏.m4a ./83073663\\薛之谦_意外_ugc.mp4 0.5340589880943298 ./薛之谦_意外_人声.pcm\n",
      "./extra ./83073663\\薛之谦_方圆几里_伴奏.m4a ./83073663\\薛之谦_方圆几里_ugc.mp4 0.5456690192222595 ./薛之谦_方圆几里_人声.pcm\n",
      "./extra ./83073663\\逃跑计划_夜空中最亮的星_伴奏.m4a ./83073663\\逃跑计划_夜空中最亮的星_ugc.mp4 0.0 ./逃跑计划_夜空中最亮的星_人声.pcm\n",
      "./extra ./83073663\\陈奕迅_拔河_伴奏.m4a ./83073663\\陈奕迅_拔河_ugc.mp4 0.4295691549777985 ./陈奕迅_拔河_人声.pcm\n"
     ]
    }
   ],
   "source": [
    "command_line_file = open(command_line_path,'w+',encoding='utf8')\n",
    "for filename in os.listdir(folder_path):\n",
    "    if re.search(m4a_pattern,filename):\n",
    "        # Deal with only m4a file to avoid repetition\n",
    "        filename_split = filename.split('_')\n",
    "        re_name = filename_split[0]+'_'+filename_split[1]\n",
    "        for index, row in df.iterrows():\n",
    "            row_split = row['文件名'].split('_')\n",
    "            row_re_name = row_split[0]+'_'+row_split[1]\n",
    "            if row_re_name == re_name:\n",
    "                start_time = row['开始录制时间']\n",
    "                for find_mp4 in os.listdir(folder_path):\n",
    "                    if re.search(row_re_name,find_mp4) and re.search(mp4_pattern,find_mp4):\n",
    "                        out_put_file_name = row_re_name+'_人声'+'.pcm'\n",
    "                        command_string = './extra '+ os.path.join(ugc_m4a_path,filename)+' '+\\\n",
    "                             os.path.join(ugc_m4a_path,find_mp4)+' '+str(start_time) +' '+\\\n",
    "                             os.path.join(out_put_path,out_put_file_name)\n",
    "                        print(command_string)\n",
    "                        command_line_file.write(command_string+'\\r')\n",
    "                        command_line_file.write('\\n')"
   ]
  },
  {
   "cell_type": "code",
   "execution_count": null,
   "metadata": {},
   "outputs": [],
   "source": []
  }
 ],
 "metadata": {
  "kernelspec": {
   "display_name": "Python 3",
   "language": "python",
   "name": "python3"
  },
  "language_info": {
   "codemirror_mode": {
    "name": "ipython",
    "version": 3
   },
   "file_extension": ".py",
   "mimetype": "text/x-python",
   "name": "python",
   "nbconvert_exporter": "python",
   "pygments_lexer": "ipython3",
   "version": "3.6.4"
  }
 },
 "nbformat": 4,
 "nbformat_minor": 2
}
